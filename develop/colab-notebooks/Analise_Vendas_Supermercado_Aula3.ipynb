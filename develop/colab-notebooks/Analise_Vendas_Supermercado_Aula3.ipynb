{
  "cells": [
    {
      "cell_type": "markdown",
      "source": [
        "\n",
        "---\n",
        "\n",
        "##Análise de Dados na Prática: Data Wrangling\n",
        "\n",
        "Professor [Claudio Antonio]\n",
        "\n",
        "Curso Análise de Dados Completo, acesse:\n",
        "https://www.upcarreira.com.br/curso-analise-de-dados/\n"
      ],
      "metadata": {
        "id": "9SwFGceqL6gO"
      }
    },
    {
      "cell_type": "code",
      "execution_count": null,
      "metadata": {
        "_cell_guid": "b1076dfc-b9ad-4769-8c92-a6c4dae69d19",
        "_uuid": "8f2839f25d086af736a60e9eeb907d3b93b6e0e5",
        "execution": {
          "iopub.execute_input": "2020-11-03T00:34:11.195443Z",
          "iopub.status.busy": "2020-11-03T00:34:11.194650Z",
          "iopub.status.idle": "2020-11-03T00:34:13.449906Z",
          "shell.execute_reply": "2020-11-03T00:34:13.448845Z"
        },
        "papermill": {
          "duration": 2.283278,
          "end_time": "2020-11-03T00:34:13.450129",
          "exception": false,
          "start_time": "2020-11-03T00:34:11.166851",
          "status": "completed"
        },
        "tags": [],
        "id": "Tj_fHjO8KmDP"
      },
      "outputs": [],
      "source": [
        "import numpy as np \n",
        "import pandas as pd \n",
        "import seaborn as sns\n",
        "import matplotlib as plt\n",
        "import plotly.offline as py\n",
        "import plotly.graph_objs as go\n",
        "import plotly.express as px\n",
        "\n"
      ]
    },
    {
      "cell_type": "code",
      "execution_count": null,
      "metadata": {
        "_cell_guid": "79c7e3d0-c299-4dcb-8224-4455121ee9b0",
        "_uuid": "d629ff2d2480ee46fbb7e2d37f6b5fab8052498a",
        "execution": {
          "iopub.execute_input": "2020-11-03T00:34:13.492067Z",
          "iopub.status.busy": "2020-11-03T00:34:13.491021Z",
          "iopub.status.idle": "2020-11-03T00:34:13.509018Z",
          "shell.execute_reply": "2020-11-03T00:34:13.508210Z"
        },
        "papermill": {
          "duration": 0.041207,
          "end_time": "2020-11-03T00:34:13.509181",
          "exception": false,
          "start_time": "2020-11-03T00:34:13.467974",
          "status": "completed"
        },
        "tags": [],
        "id": "eVFkkCCdKmDU"
      },
      "outputs": [],
      "source": [
        "df = pd.read_csv()"
      ]
    },
    {
      "cell_type": "markdown",
      "metadata": {
        "papermill": {
          "duration": 0.018208,
          "end_time": "2020-11-03T00:34:13.544431",
          "exception": false,
          "start_time": "2020-11-03T00:34:13.526223",
          "status": "completed"
        },
        "tags": [],
        "id": "EAHsqIgAKmDV"
      },
      "source": [
        "**Verificando o dataset e suas informações**"
      ]
    },
    {
      "cell_type": "code",
      "execution_count": null,
      "metadata": {
        "execution": {
          "iopub.execute_input": "2020-11-03T00:34:13.606470Z",
          "iopub.status.busy": "2020-11-03T00:34:13.605423Z",
          "iopub.status.idle": "2020-11-03T00:34:13.623363Z",
          "shell.execute_reply": "2020-11-03T00:34:13.622583Z"
        },
        "papermill": {
          "duration": 0.062115,
          "end_time": "2020-11-03T00:34:13.623488",
          "exception": false,
          "start_time": "2020-11-03T00:34:13.561373",
          "status": "completed"
        },
        "tags": [],
        "id": "Mhx0quDVKmDX"
      },
      "outputs": [],
      "source": [
        "df.head()"
      ]
    },
    {
      "cell_type": "markdown",
      "metadata": {
        "papermill": {
          "duration": 0.017136,
          "end_time": "2020-11-03T00:34:13.658281",
          "exception": false,
          "start_time": "2020-11-03T00:34:13.641145",
          "status": "completed"
        },
        "tags": [],
        "id": "dhFsnaraKmDY"
      },
      "source": [
        "Invoice ID = Código do produto  \n",
        "Branch = Filail (A, B, C)  \n",
        "City = Cidade  \n",
        "Gender = Gênero do comprador  \n",
        "Product Line = Linha do produto  \n",
        "Unit Price = Preço unitário  \n",
        "Quantity = Quantidade  \n",
        "Tax 5% = Taxa de 5% na compra  \n",
        "Total = Total da compra  \n",
        "Date = Data da compra  \n",
        "Time = Horário da compra  \n",
        "Payment = Tipo do pagamento  \n",
        "Cogs = Custo bruto no valor total da venda  \n",
        "Gross margin percentage = Porcentagem em cima do valor da venda   \n",
        "Gross income = Lucro Bruta  \n",
        "Rating = Nota do cliente em relação a compra (1 até 10)  "
      ]
    },
    {
      "cell_type": "code",
      "execution_count": null,
      "metadata": {
        "execution": {
          "iopub.execute_input": "2020-11-03T00:34:13.710738Z",
          "iopub.status.busy": "2020-11-03T00:34:13.700612Z",
          "iopub.status.idle": "2020-11-03T00:34:13.715049Z",
          "shell.execute_reply": "2020-11-03T00:34:13.716252Z"
        },
        "papermill": {
          "duration": 0.040795,
          "end_time": "2020-11-03T00:34:13.716485",
          "exception": false,
          "start_time": "2020-11-03T00:34:13.675690",
          "status": "completed"
        },
        "tags": [],
        "id": "kWFIQtC9KmDZ"
      },
      "outputs": [],
      "source": [
        "df.info()"
      ]
    },
    {
      "cell_type": "code",
      "execution_count": null,
      "metadata": {
        "execution": {
          "iopub.execute_input": "2020-11-03T00:34:13.762058Z",
          "iopub.status.busy": "2020-11-03T00:34:13.761337Z",
          "iopub.status.idle": "2020-11-03T00:34:13.800851Z",
          "shell.execute_reply": "2020-11-03T00:34:13.800099Z"
        },
        "papermill": {
          "duration": 0.065523,
          "end_time": "2020-11-03T00:34:13.800975",
          "exception": false,
          "start_time": "2020-11-03T00:34:13.735452",
          "status": "completed"
        },
        "tags": [],
        "id": "IezcZElKKmDZ"
      },
      "outputs": [],
      "source": [
        "df.describe()"
      ]
    },
    {
      "cell_type": "code",
      "execution_count": null,
      "metadata": {
        "execution": {
          "iopub.execute_input": "2020-11-03T00:34:13.849620Z",
          "iopub.status.busy": "2020-11-03T00:34:13.846884Z",
          "iopub.status.idle": "2020-11-03T00:34:13.854997Z",
          "shell.execute_reply": "2020-11-03T00:34:13.854222Z"
        },
        "papermill": {
          "duration": 0.035099,
          "end_time": "2020-11-03T00:34:13.855148",
          "exception": false,
          "start_time": "2020-11-03T00:34:13.820049",
          "status": "completed"
        },
        "tags": [],
        "id": "8qIL9_b-KmDa"
      },
      "outputs": [],
      "source": [
        "df.isnull().sum()"
      ]
    },
    {
      "cell_type": "code",
      "execution_count": null,
      "metadata": {
        "execution": {
          "iopub.execute_input": "2020-11-03T00:34:13.915537Z",
          "iopub.status.busy": "2020-11-03T00:34:13.909987Z",
          "iopub.status.idle": "2020-11-03T00:34:13.919311Z",
          "shell.execute_reply": "2020-11-03T00:34:13.918605Z"
        },
        "papermill": {
          "duration": 0.044694,
          "end_time": "2020-11-03T00:34:13.919454",
          "exception": false,
          "start_time": "2020-11-03T00:34:13.874760",
          "status": "completed"
        },
        "tags": [],
        "id": "ZIy-UyL0KmDa"
      },
      "outputs": [],
      "source": [
        "# Convertendo a data em datetime\n",
        "df['Date'] = pd.to_datetime(df['Date'])"
      ]
    },
    {
      "cell_type": "code",
      "execution_count": null,
      "metadata": {
        "execution": {
          "iopub.execute_input": "2020-11-03T00:34:13.984489Z",
          "iopub.status.busy": "2020-11-03T00:34:13.983185Z",
          "iopub.status.idle": "2020-11-03T00:34:13.988311Z",
          "shell.execute_reply": "2020-11-03T00:34:13.987530Z"
        },
        "papermill": {
          "duration": 0.049252,
          "end_time": "2020-11-03T00:34:13.988436",
          "exception": false,
          "start_time": "2020-11-03T00:34:13.939184",
          "status": "completed"
        },
        "tags": [],
        "id": "vGnjC5d6KmDb"
      },
      "outputs": [],
      "source": [
        "df.head()"
      ]
    },
    {
      "cell_type": "markdown",
      "metadata": {
        "papermill": {
          "duration": 0.020539,
          "end_time": "2020-11-03T00:34:14.031023",
          "exception": false,
          "start_time": "2020-11-03T00:34:14.010484",
          "status": "completed"
        },
        "tags": [],
        "id": "j8zC6L2CKmDb"
      },
      "source": [
        "**Analisando os dados**"
      ]
    },
    {
      "cell_type": "markdown",
      "metadata": {
        "papermill": {
          "duration": 0.020642,
          "end_time": "2020-11-03T00:34:14.075494",
          "exception": false,
          "start_time": "2020-11-03T00:34:14.054852",
          "status": "completed"
        },
        "tags": [],
        "id": "x5FC4mbhKmDc"
      },
      "source": [
        "Pergunta 1 - Qual gênero compra determinado tipo de produto?"
      ]
    },
    {
      "cell_type": "code",
      "execution_count": null,
      "metadata": {
        "execution": {
          "iopub.execute_input": "2020-11-03T00:34:14.128667Z",
          "iopub.status.busy": "2020-11-03T00:34:14.127643Z",
          "iopub.status.idle": "2020-11-03T00:34:14.145504Z",
          "shell.execute_reply": "2020-11-03T00:34:14.144816Z"
        },
        "papermill": {
          "duration": 0.049063,
          "end_time": "2020-11-03T00:34:14.145644",
          "exception": false,
          "start_time": "2020-11-03T00:34:14.096581",
          "status": "completed"
        },
        "tags": [],
        "id": "Q1492G_6KmDd"
      },
      "outputs": [],
      "source": [
        "df_produtos = df[['Product line', 'Gender', 'Quantity']]\n",
        "df_produtos = df_produtos.groupby(['Product line', 'Gender'], as_index = False).sum()\n",
        "df_produtos"
      ]
    },
    {
      "cell_type": "code",
      "execution_count": null,
      "metadata": {
        "execution": {
          "iopub.execute_input": "2020-11-03T00:34:14.194759Z",
          "iopub.status.busy": "2020-11-03T00:34:14.193883Z",
          "iopub.status.idle": "2020-11-03T00:34:15.369754Z",
          "shell.execute_reply": "2020-11-03T00:34:15.368959Z"
        },
        "papermill": {
          "duration": 1.202818,
          "end_time": "2020-11-03T00:34:15.369879",
          "exception": false,
          "start_time": "2020-11-03T00:34:14.167061",
          "status": "completed"
        },
        "tags": [],
        "id": "R1H7Id_SKmDd"
      },
      "outputs": [],
      "source": [
        "px.bar(df_produtos, x = 'Product line', y = 'Quantity', color = 'Gender', title='Quantidade de produtos por gênero')"
      ]
    },
    {
      "cell_type": "markdown",
      "metadata": {
        "papermill": {
          "duration": 0.022552,
          "end_time": "2020-11-03T00:34:15.415744",
          "exception": false,
          "start_time": "2020-11-03T00:34:15.393192",
          "status": "completed"
        },
        "tags": [],
        "id": "L5l513KKKmDd"
      },
      "source": [
        "2 - Qual o lucro de cada tipo de produto?"
      ]
    },
    {
      "cell_type": "code",
      "execution_count": null,
      "metadata": {
        "execution": {
          "iopub.execute_input": "2020-11-03T00:34:15.473966Z",
          "iopub.status.busy": "2020-11-03T00:34:15.471875Z",
          "iopub.status.idle": "2020-11-03T00:34:15.485295Z",
          "shell.execute_reply": "2020-11-03T00:34:15.485842Z"
        },
        "papermill": {
          "duration": 0.047317,
          "end_time": "2020-11-03T00:34:15.486005",
          "exception": false,
          "start_time": "2020-11-03T00:34:15.438688",
          "status": "completed"
        },
        "tags": [],
        "id": "GYoupcSrKmDe"
      },
      "outputs": [],
      "source": [
        "df_lucro = df[['Product line', 'gross income']].groupby(['Product line'], as_index = False).sum()\n",
        "df_lucro"
      ]
    },
    {
      "cell_type": "code",
      "execution_count": null,
      "metadata": {
        "execution": {
          "iopub.execute_input": "2020-11-03T00:34:15.586575Z",
          "iopub.status.busy": "2020-11-03T00:34:15.546759Z",
          "iopub.status.idle": "2020-11-03T00:34:15.605811Z",
          "shell.execute_reply": "2020-11-03T00:34:15.605156Z"
        },
        "papermill": {
          "duration": 0.095397,
          "end_time": "2020-11-03T00:34:15.605948",
          "exception": false,
          "start_time": "2020-11-03T00:34:15.510551",
          "status": "completed"
        },
        "tags": [],
        "id": "Nl_qOR6VKmDe"
      },
      "outputs": [],
      "source": [
        "px.bar(df_lucro, x = 'Product line', y = 'gross income', title='Lucro bruto por tipo de produto')"
      ]
    },
    {
      "cell_type": "code",
      "execution_count": null,
      "metadata": {
        "execution": {
          "iopub.execute_input": "2020-11-03T00:34:15.662135Z",
          "iopub.status.busy": "2020-11-03T00:34:15.661335Z",
          "iopub.status.idle": "2020-11-03T00:34:15.822218Z",
          "shell.execute_reply": "2020-11-03T00:34:15.822874Z"
        },
        "papermill": {
          "duration": 0.192257,
          "end_time": "2020-11-03T00:34:15.823054",
          "exception": false,
          "start_time": "2020-11-03T00:34:15.630797",
          "status": "completed"
        },
        "tags": [],
        "id": "ptTuqP56KmDf"
      },
      "outputs": [],
      "source": [
        "df_data = df.sort_values('Date')\n",
        "px.line(df_data, x='Date', y='gross income', color='Product line', title='Lucro diário por tipo de produto')"
      ]
    },
    {
      "cell_type": "code",
      "execution_count": null,
      "metadata": {
        "execution": {
          "iopub.execute_input": "2020-11-03T00:34:15.907304Z",
          "iopub.status.busy": "2020-11-03T00:34:15.894821Z",
          "iopub.status.idle": "2020-11-03T00:34:15.912638Z",
          "shell.execute_reply": "2020-11-03T00:34:15.911868Z"
        },
        "papermill": {
          "duration": 0.062787,
          "end_time": "2020-11-03T00:34:15.912766",
          "exception": false,
          "start_time": "2020-11-03T00:34:15.849979",
          "status": "completed"
        },
        "tags": [],
        "id": "ifCJ098nKmDf"
      },
      "outputs": [],
      "source": [
        "df['Month'] = df['Date'].dt.month\n",
        "df['Month'] = df['Month'].replace({1:'Janeiro', 2:'Fevereiro', 3:'Março'})\n",
        "df.head()"
      ]
    },
    {
      "cell_type": "code",
      "execution_count": null,
      "metadata": {
        "execution": {
          "iopub.execute_input": "2020-11-03T00:34:15.975122Z",
          "iopub.status.busy": "2020-11-03T00:34:15.974335Z",
          "iopub.status.idle": "2020-11-03T00:34:15.990322Z",
          "shell.execute_reply": "2020-11-03T00:34:15.989494Z"
        },
        "papermill": {
          "duration": 0.049616,
          "end_time": "2020-11-03T00:34:15.990454",
          "exception": false,
          "start_time": "2020-11-03T00:34:15.940838",
          "status": "completed"
        },
        "tags": [],
        "id": "TcLaHRNfKmDg"
      },
      "outputs": [],
      "source": [
        "df_lucro_mensal = df[['Month', 'gross income']]\n",
        "df_lucro_mensal = df_lucro_mensal.groupby('Month', as_index=False).sum()\n",
        "df_lucro_mensal"
      ]
    },
    {
      "cell_type": "code",
      "execution_count": null,
      "metadata": {
        "execution": {
          "iopub.execute_input": "2020-11-03T00:34:16.095378Z",
          "iopub.status.busy": "2020-11-03T00:34:16.062868Z",
          "iopub.status.idle": "2020-11-03T00:34:16.120940Z",
          "shell.execute_reply": "2020-11-03T00:34:16.120025Z"
        },
        "papermill": {
          "duration": 0.101363,
          "end_time": "2020-11-03T00:34:16.121081",
          "exception": false,
          "start_time": "2020-11-03T00:34:16.019718",
          "status": "completed"
        },
        "tags": [],
        "id": "HLKkKTL7KmDg"
      },
      "outputs": [],
      "source": [
        "px.bar(df_lucro_mensal, x='Month', y='gross income', title='Lucro por mês')"
      ]
    }
  ],
  "metadata": {
    "kernelspec": {
      "display_name": "Python 3",
      "language": "python",
      "name": "python3"
    },
    "language_info": {
      "codemirror_mode": {
        "name": "ipython",
        "version": 3
      },
      "file_extension": ".py",
      "mimetype": "text/x-python",
      "name": "python",
      "nbconvert_exporter": "python",
      "pygments_lexer": "ipython3",
      "version": "3.7.6"
    },
    "papermill": {
      "duration": 10.297193,
      "end_time": "2020-11-03T00:34:16.259014",
      "environment_variables": {},
      "exception": null,
      "input_path": "__notebook__.ipynb",
      "output_path": "__notebook__.ipynb",
      "parameters": {},
      "start_time": "2020-11-03T00:34:05.961821",
      "version": "2.1.0"
    },
    "colab": {
      "provenance": []
    }
  },
  "nbformat": 4,
  "nbformat_minor": 0
}